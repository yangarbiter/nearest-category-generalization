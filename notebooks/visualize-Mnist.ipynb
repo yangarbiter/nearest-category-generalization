{
 "cells": [
  {
   "cell_type": "code",
   "execution_count": 1,
   "metadata": {},
   "outputs": [
    {
     "name": "stdout",
     "output_type": "stream",
     "text": [
      "(CVXPY) Jan 21 02:27:13 PM: Encountered unexpected exception importing solver GUROBI:\n",
      "ImportError('libgurobi100.so: cannot open shared object file: No such file or directory')\n",
      "(CVXPY) Jan 21 02:27:13 PM: Encountered unexpected exception importing solver GUROBI:\n",
      "ImportError('libgurobi100.so: cannot open shared object file: No such file or directory')\n"
     ]
    }
   ],
   "source": [
    "import sys\n",
    "sys.path.append(\"../\")\n",
    "import re\n",
    "from os.path import join\n",
    "from IPython.display import display\n",
    "import h5py\n",
    "import json\n",
    "import inspect\n",
    "import os\n",
    "\n",
    "import matplotlib\n",
    "matplotlib.rcParams['pdf.fonttype'] = 42\n",
    "matplotlib.rcParams['ps.fonttype'] = 42\n",
    "matplotlib.rc('text', usetex=False)\n",
    "\n",
    "import faiss\n",
    "from PIL import Image \n",
    "import tensorflow as tf\n",
    "import matplotlib.pyplot as plt\n",
    "import joblib\n",
    "import numpy as np\n",
    "import pandas as pd\n",
    "import torch\n",
    "from torch import nn\n",
    "from torch.utils.data import Dataset, DataLoader\n",
    "import torchvision\n",
    "from torchvision.datasets import ImageFolder, VisionDataset\n",
    "import torchvision.transforms as transforms\n",
    "from tqdm.notebook import tqdm\n",
    "import scipy\n",
    "\n",
    "from lolip.models.vari_torch_model import VariTorchModel\n",
    "import lolip.models.torch_utils.archs as archs\n",
    "from lolip.variables import auto_var\n",
    "\n",
    "fontsize=20\n",
    "%load_ext autoreload\n",
    "%autoreload 2"
   ]
  },
  {
   "cell_type": "code",
   "execution_count": 2,
   "metadata": {},
   "outputs": [
    {
     "data": {
      "application/vnd.jupyter.widget-view+json": {
       "model_id": "bc0e8eec59234da18469534d8cee5d55",
       "version_major": 2,
       "version_minor": 0
      },
      "text/plain": [
       "  0%|          | 0/10 [00:00<?, ?it/s]"
      ]
     },
     "metadata": {},
     "output_type": "display_data"
    }
   ],
   "source": [
    "auto_var.set_variable_value(\"random_seed\", 0)\n",
    "\n",
    "data = {}\n",
    "for i in tqdm(range(10)):\n",
    "    ds_name = f\"mnistwo{i}\"\n",
    "    trnX, trny, tstX, tsty, rest = auto_var.get_var_with_argument(\"dataset\", ds_name)\n",
    "    oodX = np.concatenate((rest[0], rest[1]), axis=0)\n",
    "    \n",
    "    fet_size = int(np.prod(trnX.shape[1:]).astype(int))\n",
    "    index = faiss.IndexFlatL2(fet_size)\n",
    "    index.add(trnX.reshape(len(trnX), -1))\n",
    "    D, I = index.search(oodX.reshape(len(oodX), -1), 1)\n",
    "    D = np.sqrt(D[:, 0].reshape(-1))\n",
    "    \n",
    "    res = joblib.load(f\"../results/oos_repr/cwl2-128-{ds_name}-70-1.0-0.01-ce-vtor2-CNN002-0.9-2-sgd-0-0.0.pkl\")\n",
    "    #res = joblib.load(f\"../results/oos_repr/cwl2-128-{ds_name}-70-2.0-0.01-trades6ce-vtor2-CNN002-0.9-2-sgd-0-0.0.pkl\")\n",
    "    ood_preds = np.concatenate((res['oos_trn_pred'], res['oos_tst_pred']))\n",
    "    \n",
    "    data[ds_name] = (D.mean(), (ood_preds == trny[I[:, 0]]).mean())\n",
    "    "
   ]
  },
  {
   "cell_type": "code",
   "execution_count": 4,
   "metadata": {},
   "outputs": [
    {
     "data": {
      "application/vnd.jupyter.widget-view+json": {
       "model_id": "e69384a254924201a6f86cc6222d219c",
       "version_major": 2,
       "version_minor": 0
      },
      "text/plain": [
       "  0%|          | 0/10 [00:00<?, ?it/s]"
      ]
     },
     "metadata": {},
     "output_type": "display_data"
    },
    {
     "data": {
      "image/png": "[encoded data removed]",
      "text/plain": [
       "<Figure size 432x288 with 1 Axes>"
      ]
     },
     "metadata": {
      "needs_background": "light"
     },
     "output_type": "display_data"
    }
   ],
   "source": [
    "a, b = [], []\n",
    "for i in tqdm(range(10)):\n",
    "    ds_name = f\"mnistwo{i}\"\n",
    "    a.append(data[ds_name][0])\n",
    "    b.append(data[ds_name][1])\n",
    "plt.scatter(a, b)\n",
    "plt.xticks(fontsize=fontsize)\n",
    "plt.yticks(fontsize=fontsize)\n",
    "plt.ylabel(\"NCG score\", fontsize=fontsize)\n",
    "plt.xlabel(\"Avg. $\\ell_2$ distance to the closest training example\", fontsize=fontsize)\n",
    "plt.tight_layout()\n",
    "plt.savefig(\"./figs/dset_dist_scatter/pixel_mnist.png\")"
   ]
  },
  {
   "cell_type": "code",
   "execution_count": null,
   "metadata": {},
   "outputs": [],
   "source": [
    "scipy.stats.pearsonr(a, b)"
   ]
  },
  {
   "cell_type": "code",
   "execution_count": 6,
   "metadata": {},
   "outputs": [
    {
     "data": {
      "application/vnd.jupyter.widget-view+json": {
       "model_id": "7c37e377fc89466dadaafa63fbe5720c",
       "version_major": 2,
       "version_minor": 0
      },
      "text/plain": [
       "  0%|          | 0/10 [00:00<?, ?it/s]"
      ]
     },
     "metadata": {},
     "output_type": "display_data"
    }
   ],
   "source": [
    "auto_var.set_variable_value(\"random_seed\", 0)\n",
    "\n",
    "data = {}\n",
    "for i in tqdm(range(10)):\n",
    "    ds_name = f'calcedrepr-mnistwo{i}-cwl2-128-mnistwo{i}-70-1.0-0.01-ce-vtor2-CNN002-0.9-2-sgd-0-0.0.pkl'\n",
    "    trnX, trny, tstX, tsty, rest = auto_var.get_var_with_argument(\"dataset\", ds_name)\n",
    "    oodX = np.concatenate((rest[0], rest[1]), axis=0)\n",
    "    \n",
    "    fet_size = int(np.prod(trnX.shape[1:]).astype(int))\n",
    "    index = faiss.IndexFlatL2(fet_size)\n",
    "    index.add(trnX.reshape(len(trnX), -1))\n",
    "    D, I = index.search(oodX.reshape(len(oodX), -1), 1)\n",
    "    D = np.sqrt(D[:, 0].reshape(-1))\n",
    "    \n",
    "    res = joblib.load(f\"../results/out_of_sample_mnist_bak/cwl2-256-calcedrepr-mnistwo{i}-cwl2-128-mnistwo{i}-70-1.0-0.01-ce-vtor2-CNN002-0.9-2-sgd-0-0.0.pkl-70-1.0-0.01-ce-vtor2-LargeMLP-0.9-2-sgd-0-0.0.pkl\")\n",
    "    #res = joblib.load(f\"../results/oos_repr/cwl2-128-{ds_name}-70-2.0-0.01-trades6ce-vtor2-CNN002-0.9-2-sgd-0-0.0.pkl\")\n",
    "    ood_preds = np.concatenate((res['oos_trn_pred'], res['oos_tst_pred']))\n",
    "    \n",
    "    data[ds_name] = (D.mean(), (ood_preds == trny[I[:, 0]]).mean())"
   ]
  },
  {
   "cell_type": "code",
   "execution_count": 9,
   "metadata": {},
   "outputs": [
    {
     "data": {
      "application/vnd.jupyter.widget-view+json": {
       "model_id": "686c65e584674658bde9469ed1b1de69",
       "version_major": 2,
       "version_minor": 0
      },
      "text/plain": [
       "  0%|          | 0/10 [00:00<?, ?it/s]"
      ]
     },
     "metadata": {},
     "output_type": "display_data"
    },
    {
     "data": {
      "image/png": "[encoded data removed]",
      "text/plain": [
       "<Figure size 432x288 with 1 Axes>"
      ]
     },
     "metadata": {
      "needs_background": "light"
     },
     "output_type": "display_data"
    }
   ],
   "source": [
    "a, b = [], []\n",
    "for i in tqdm(range(10)):\n",
    "    ds_name = f'calcedrepr-mnistwo{i}-cwl2-128-mnistwo{i}-70-1.0-0.01-ce-vtor2-CNN002-0.9-2-sgd-0-0.0.pkl'\n",
    "    a.append(data[ds_name][0])\n",
    "    b.append(data[ds_name][1])\n",
    "plt.scatter(a, b)\n",
    "plt.xticks(fontsize=fontsize)\n",
    "plt.yticks(fontsize=fontsize)\n",
    "plt.ylabel(\"NCG score\", fontsize=fontsize)\n",
    "plt.xlabel(\"Avg. $\\ell_2$ distance to the closest training example\", fontsize=fontsize)\n",
    "plt.tight_layout()\n",
    "plt.savefig(\"./figs/dset_dist_scatter/feature_mnist.png\")"
   ]
  },
  {
   "cell_type": "code",
   "execution_count": 8,
   "metadata": {},
   "outputs": [
    {
     "data": {
      "text/plain": [
       "PearsonRResult(statistic=0.48689491845194544, pvalue=0.15352517968887577)"
      ]
     },
     "execution_count": 8,
     "metadata": {},
     "output_type": "execute_result"
    }
   ],
   "source": [
    "scipy.stats.pearsonr(a, b)"
   ]
  },
  {
   "cell_type": "code",
   "execution_count": null,
   "metadata": {},
   "outputs": [],
   "source": []
  },
  {
   "cell_type": "code",
   "execution_count": null,
   "metadata": {},
   "outputs": [],
   "source": []
  },
  {
   "cell_type": "code",
   "execution_count": 6,
   "metadata": {},
   "outputs": [],
   "source": [
    "def get_closet_img(img_path, index, model=None, device=\"cpu\"):\n",
    "    tstx = transform(pil_loader(img_path))\n",
    "    if model is None:\n",
    "        tst_fet = tstx.unsqueeze(0).flatten().cpu().detach().numpy().reshape(1, -1)\n",
    "    else:\n",
    "        tst_fet = model(tstx.unsqueeze(0).to(device)).flatten().cpu().detach().numpy().reshape(1, -1)\n",
    "    D, I = index.search(tst_fet, k=1)\n",
    "    #return pil_loader(res['img_paths'][I[0][0]])\n",
    "    return I[0][0]\n",
    "\n",
    "def prediction_with_model(arch_name, model_path, loader, n_classes):\n",
    "    arch_fn = getattr(archs, arch_name)\n",
    "    arch_params = dict(n_classes=n_classes, n_channels=3)\n",
    "    if 'n_features' in inspect.getfullargspec(arch_fn)[0]:\n",
    "        arch_params['n_features'] = trnX.shape[1:]\n",
    "    model = arch_fn(**arch_params)\n",
    "    model.load_state_dict(torch.load(model_path)['model_state_dict'])\n",
    "    ret = []\n",
    "    for X, _ in tqdm(loader):\n",
    "        ret.append(model(X).detach().cpu().numpy())\n",
    "    return np.concatenate(ret, 0)"
   ]
  },
  {
   "cell_type": "code",
   "execution_count": 7,
   "metadata": {},
   "outputs": [],
   "source": [
    "auto_var.set_variable_value(\"random_seed\", 0)\n",
    "trnX, trny, tstX, tsty, rest = auto_var.get_var_with_argument(\"dataset\", \"mnistwo9\")"
   ]
  },
  {
   "cell_type": "code",
   "execution_count": 17,
   "metadata": {},
   "outputs": [],
   "source": [
    "fet_size = int(np.prod(trnX.shape[1:]).astype(int))\n",
    "index = faiss.IndexFlatL2(fet_size)\n",
    "index.add(trnX.reshape(len(trnX), -1))\n",
    "D, I = index.search(rest[0].reshape(len(rest[0]), -1), 1)"
   ]
  },
  {
   "cell_type": "code",
   "execution_count": 34,
   "metadata": {},
   "outputs": [
    {
     "data": {
      "image/png": "[encoded data removed]",
      "text/plain": [
       "<PIL.Image.Image image mode=L size=28x28 at 0x7F2FF0658510>"
      ]
     },
     "metadata": {},
     "output_type": "display_data"
    },
    {
     "data": {
      "image/png": "[encoded data removed]",
      "text/plain": [
       "<PIL.Image.Image image mode=L size=28x28 at 0x7F2FF0658510>"
      ]
     },
     "metadata": {},
     "output_type": "display_data"
    }
   ],
   "source": [
    "im = (rest[0][0, :, :, 0] * 255).astype(np.uint8)\n",
    "im2 = (trnX[I[0, 0], :, :, 0] * 255).astype(np.uint8)\n",
    "Image.fromarray(im).save(\"./figs/mnist_examples/0.png\")\n",
    "Image.fromarray(im2).save(\"./figs/mnist_examples/tr_0.png\")\n",
    "display(Image.fromarray(im))\n",
    "display(Image.fromarray(im2))"
   ]
  },
  {
   "cell_type": "code",
   "execution_count": null,
   "metadata": {},
   "outputs": [],
   "source": []
  }
 ],
 "metadata": {
  "kernelspec": {
   "display_name": "Python 3",
   "language": "python",
   "name": "python3"
  },
  "language_info": {
   "codemirror_mode": {
    "name": "ipython",
    "version": 3
   },
   "file_extension": ".py",
   "mimetype": "text/x-python",
   "name": "python",
   "nbconvert_exporter": "python",
   "pygments_lexer": "ipython3",
   "version": "3.8.8"
  }
 },
 "nbformat": 4,
 "nbformat_minor": 4
}
